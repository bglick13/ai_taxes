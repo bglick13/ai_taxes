{
 "cells": [
  {
   "cell_type": "markdown",
   "metadata": {},
   "source": [
    "Copyright (c) 2020, salesforce.com, inc.  \n",
    "All rights reserved.  \n",
    "SPDX-License-Identifier: BSD-3-Clause  \n",
    "For full license text, see the LICENSE file in the repo root or https://opensource.org/licenses/BSD-3-Clause"
   ]
  },
  {
   "cell_type": "markdown",
   "metadata": {},
   "source": [
    "### Colab\n",
    "\n",
    "Try this notebook on Colab: [http://colab.research.google.com/github/salesforce/ai-economist/blob/master/tutorials/economic_simulation_basic.ipynb](http://colab.research.google.com/github/salesforce/ai-economist/blob/master/tutorials/economic_simulation_basic.ipynb)"
   ]
  },
  {
   "cell_type": "markdown",
   "metadata": {},
   "source": [
    "# Welcome to Foundation!\n",
    "\n",
    "Foundation is the name of the economic simulator built for the AI Economist ([paper here](https://arxiv.org/abs/2004.13332)). This is the first of several tutorials designed to explain how Foundation works and how it can be used to build simulation environments for studying economic problems.\n",
    "\n",
    "Just to orient you a bit, Foundation is specially designed for modeling economies in spatial, 2D grid worlds. The AI Economist paper uses a scenario with 4 agents in a world with *Stone* and *Wood*, which can be *collected*, *traded*, and used to build *Houses*. Here's a (nicely rendered) example of what such an environment looks like:\n",
    "\n",
    "![Foundation snapshot](assets/foundation_snapshot_rendered.jpg)\n",
    "\n",
    "This image just shows what you might see spatially. Behind the scenes, agents have inventories of Stone, Wood, and *Coin*, which they can exchange through a commodities marketplace. In addition, they periodically pay taxes on income earned through trading and building.\n",
    "\n",
    "**We've open-sourced Foundation to foster transparency and to enable others to build on it!** With that goal in mind, this first tutorial should give you enough to see how to create the type of simulation environment described above and how to interact with it. If you're interested to learn how it all works and how to build on it, make sure to check out the advanced tutorial as well! If, after that, you want to understand more about designing the simulation around economic problems, check out our tutorial explaining how the AI Economist uses Foundation to study the optimal taxation problem!"
   ]
  },
  {
   "cell_type": "markdown",
   "metadata": {},
   "source": [
    "# Introduction\n",
    "\n",
    "In this **basic** tutorial, we will demonstrate the basics of how to create an instance of a simulation environment and how to interact with it.\n",
    "\n",
    "We will cover the following: \n",
    "1. Markov Decision Processes\n",
    "2. Creating a Simulation Environment (a Scenario Instance)\n",
    "3. Interacting with the Simulation\n",
    "4. Sampling and Visualizing an Episode"
   ]
  },
  {
   "cell_type": "markdown",
   "metadata": {},
   "source": [
    "## Dependencies:\n",
    "You can install the ai-economist package using \n",
    "- the pip package manager OR\n",
    "- by cloning the ai-economist package and installing the requirements (we shall use this when running on Colab):"
   ]
  },
  {
   "cell_type": "code",
   "execution_count": 2,
   "metadata": {},
   "outputs": [
    {
     "name": "stdout",
     "output_type": "stream",
     "text": [
      "Collecting ai-economist"
     ]
    },
    {
     "name": "stderr",
     "output_type": "stream",
     "text": [
      "ERROR: pymc3 3.6 has requirement joblib<0.13.0, but you'll have joblib 0.14.1 which is incompatible.\n",
      "ERROR: keras 2.2.0 has requirement keras-applications==1.0.2, but you'll have keras-applications 1.0.6 which is incompatible.\n",
      "ERROR: keras 2.2.0 has requirement keras-preprocessing==1.0.1, but you'll have keras-preprocessing 1.0.5 which is incompatible.\n",
      "ERROR: flask-monitoringdashboard 3.0.9 has requirement jinja2==2.11.1, but you'll have jinja2 2.11.2 which is incompatible.\n",
      "ERROR: Cannot uninstall 'terminado'. It is a distutils installed project and thus we cannot accurately determine which files belong to it which would lead to only a partial uninstall.\n"
     ]
    },
    {
     "name": "stdout",
     "output_type": "stream",
     "text": [
      "\n",
      "  Using cached https://files.pythonhosted.org/packages/3b/cc/f03f2d1e4ee6f77c19957a7dcc469f86948c64e2badbf97a318e0655fe69/ai_economist-1.1.1-py3-none-any.whl\n",
      "Requirement already satisfied: astroid==2.4.2 in c:\\users\\ben\\anaconda3\\envs\\worldmodelsdk\\lib\\site-packages (from ai-economist) (2.4.2)\n",
      "Requirement already satisfied: decorator==4.4.2 in c:\\users\\ben\\anaconda3\\envs\\worldmodelsdk\\lib\\site-packages (from ai-economist) (4.4.2)\n",
      "Requirement already satisfied: regex==2020.6.8 in c:\\users\\ben\\anaconda3\\envs\\worldmodelsdk\\lib\\site-packages (from ai-economist) (2020.6.8)\n",
      "Requirement already satisfied: ipython-genutils==0.2.0 in c:\\users\\ben\\anaconda3\\envs\\worldmodelsdk\\lib\\site-packages (from ai-economist) (0.2.0)\n",
      "Requirement already satisfied: pyrsistent==0.16.0 in c:\\users\\ben\\anaconda3\\envs\\worldmodelsdk\\lib\\site-packages (from ai-economist) (0.16.0)\n",
      "Requirement already satisfied: prompt-toolkit==3.0.5 in c:\\users\\ben\\anaconda3\\envs\\worldmodelsdk\\lib\\site-packages (from ai-economist) (3.0.5)\n",
      "Requirement already satisfied: mccabe==0.6.1 in c:\\users\\ben\\anaconda3\\envs\\worldmodelsdk\\lib\\site-packages (from ai-economist) (0.6.1)\n",
      "Requirement already satisfied: Send2Trash==1.5.0 in c:\\users\\ben\\anaconda3\\envs\\worldmodelsdk\\lib\\site-packages (from ai-economist) (1.5.0)\n",
      "Requirement already satisfied: cycler==0.10.0 in c:\\users\\ben\\anaconda3\\envs\\worldmodelsdk\\lib\\site-packages (from ai-economist) (0.10.0)\n",
      "Collecting scipy==1.4.1 (from ai-economist)\n",
      "  Using cached https://files.pythonhosted.org/packages/8d/2f/fcb6150813b89d628749784370132e431f687ebab5a1063eb298cc941f76/scipy-1.4.1-cp36-cp36m-win_amd64.whl\n",
      "Requirement already satisfied: traitlets==4.3.3 in c:\\users\\ben\\anaconda3\\envs\\worldmodelsdk\\lib\\site-packages (from ai-economist) (4.3.3)\n",
      "Requirement already satisfied: jedi==0.17.0 in c:\\users\\ben\\anaconda3\\envs\\worldmodelsdk\\lib\\site-packages (from ai-economist) (0.17.0)\n",
      "Collecting Jinja2==2.11.2 (from ai-economist)\n",
      "  Using cached https://files.pythonhosted.org/packages/30/9e/f663a2aa66a09d838042ae1a2c5659828bb9b41ea3a6efa20a20fd92b121/Jinja2-2.11.2-py2.py3-none-any.whl\n",
      "Collecting qtconsole==4.7.4 (from ai-economist)\n",
      "  Using cached https://files.pythonhosted.org/packages/61/9c/ee26b844381f0cf2ea24bd822e4a9ed2c7fd6d8cdeef63be459c62132f9b/qtconsole-4.7.4-py2.py3-none-any.whl\n",
      "Requirement already satisfied: tornado==6.0.4 in c:\\users\\ben\\anaconda3\\envs\\worldmodelsdk\\lib\\site-packages (from ai-economist) (6.0.4)\n",
      "Requirement already satisfied: toml==0.10.1 in c:\\users\\ben\\anaconda3\\envs\\worldmodelsdk\\lib\\site-packages (from ai-economist) (0.10.1)\n",
      "Collecting notebook==6.0.3 (from ai-economist)\n",
      "  Using cached https://files.pythonhosted.org/packages/b1/f1/0a67f09ef53a342403ffa66646ee39273e0ac79ffa5de5dbe2f3e28b5bdf/notebook-6.0.3-py3-none-any.whl\n",
      "Requirement already satisfied: ptyprocess==0.6.0 in c:\\users\\ben\\anaconda3\\envs\\worldmodelsdk\\lib\\site-packages (from ai-economist) (0.6.0)\n",
      "Requirement already satisfied: MarkupSafe==1.1.1 in c:\\users\\ben\\anaconda3\\envs\\worldmodelsdk\\lib\\site-packages (from ai-economist) (1.1.1)\n",
      "Requirement already satisfied: wcwidth==0.2.4 in c:\\users\\ben\\anaconda3\\envs\\worldmodelsdk\\lib\\site-packages (from ai-economist) (0.2.4)\n",
      "Requirement already satisfied: pandocfilters==1.4.2 in c:\\users\\ben\\anaconda3\\envs\\worldmodelsdk\\lib\\site-packages (from ai-economist) (1.4.2)\n",
      "Requirement already satisfied: pyparsing==2.4.7 in c:\\users\\ben\\anaconda3\\envs\\worldmodelsdk\\lib\\site-packages (from ai-economist) (2.4.7)\n",
      "Requirement already satisfied: zipp==3.1.0 in c:\\users\\ben\\anaconda3\\envs\\worldmodelsdk\\lib\\site-packages (from ai-economist) (3.1.0)\n",
      "Requirement already satisfied: mistune==0.8.4 in c:\\users\\ben\\anaconda3\\envs\\worldmodelsdk\\lib\\site-packages (from ai-economist) (0.8.4)\n",
      "Requirement already satisfied: appnope==0.1.0 in c:\\users\\ben\\anaconda3\\envs\\worldmodelsdk\\lib\\site-packages (from ai-economist) (0.1.0)\n",
      "Requirement already satisfied: prometheus-client==0.8.0 in c:\\users\\ben\\anaconda3\\envs\\worldmodelsdk\\lib\\site-packages (from ai-economist) (0.8.0)\n",
      "Requirement already satisfied: typed-ast==1.4.1 in c:\\users\\ben\\anaconda3\\envs\\worldmodelsdk\\lib\\site-packages (from ai-economist) (1.4.1)\n",
      "Requirement already satisfied: chardet==3.0.4 in c:\\users\\ben\\anaconda3\\envs\\worldmodelsdk\\lib\\site-packages (from ai-economist) (3.0.4)\n",
      "Requirement already satisfied: more-itertools==8.3.0 in c:\\users\\ben\\anaconda3\\envs\\worldmodelsdk\\lib\\site-packages (from ai-economist) (8.3.0)\n",
      "Collecting pkginfo==1.5.0.1 (from ai-economist)\n",
      "  Using cached https://files.pythonhosted.org/packages/e6/d5/451b913307b478c49eb29084916639dc53a88489b993530fed0a66bab8b9/pkginfo-1.5.0.1-py2.py3-none-any.whl\n",
      "Requirement already satisfied: requests-toolbelt==0.9.1 in c:\\users\\ben\\anaconda3\\envs\\worldmodelsdk\\lib\\site-packages (from ai-economist) (0.9.1)\n",
      "Requirement already satisfied: isort==4.3.21 in c:\\users\\ben\\anaconda3\\envs\\worldmodelsdk\\lib\\site-packages (from ai-economist) (4.3.21)\n",
      "Requirement already satisfied: jupyter-core==4.6.3 in c:\\users\\ben\\anaconda3\\envs\\worldmodelsdk\\lib\\site-packages (from ai-economist) (4.6.3)\n",
      "Requirement already satisfied: backcall==0.2.0 in c:\\users\\ben\\anaconda3\\envs\\worldmodelsdk\\lib\\site-packages (from ai-economist) (0.2.0)\n",
      "Requirement already satisfied: flake8==3.8.3 in c:\\users\\ben\\anaconda3\\envs\\worldmodelsdk\\lib\\site-packages (from ai-economist) (3.8.3)\n",
      "Requirement already satisfied: lz4==3.1.0 in c:\\users\\ben\\anaconda3\\envs\\worldmodelsdk\\lib\\site-packages (from ai-economist) (3.1.0)\n",
      "Requirement already satisfied: lazy-object-proxy==1.4.3 in c:\\users\\ben\\anaconda3\\envs\\worldmodelsdk\\lib\\site-packages (from ai-economist) (1.4.3)\n",
      "Requirement already satisfied: webencodings==0.5.1 in c:\\users\\ben\\anaconda3\\envs\\worldmodelsdk\\lib\\site-packages (from ai-economist) (0.5.1)\n",
      "Collecting nbformat==5.0.7 (from ai-economist)\n",
      "  Using cached https://files.pythonhosted.org/packages/4d/d1/b568bd35f95321f152f594b3647cd080e96d3347843ff2fa34dce871b8bf/nbformat-5.0.7-py3-none-any.whl\n",
      "Requirement already satisfied: parso==0.7.0 in c:\\users\\ben\\anaconda3\\envs\\worldmodelsdk\\lib\\site-packages (from ai-economist) (0.7.0)\n",
      "Requirement already satisfied: ipykernel==5.3.0 in c:\\users\\ben\\anaconda3\\envs\\worldmodelsdk\\lib\\site-packages (from ai-economist) (5.3.0)\n",
      "Requirement already satisfied: Pygments==2.6.1 in c:\\users\\ben\\anaconda3\\envs\\worldmodelsdk\\lib\\site-packages (from ai-economist) (2.6.1)\n",
      "Collecting pytest==5.4.3 (from ai-economist)\n",
      "  Using cached https://files.pythonhosted.org/packages/9f/f3/0a83558da436a081344aa6c8b85ea5b5f05071214106036ce341b7769b0b/pytest-5.4.3-py3-none-any.whl\n",
      "Requirement already satisfied: urllib3==1.25.9 in c:\\users\\ben\\anaconda3\\envs\\worldmodelsdk\\lib\\site-packages (from ai-economist) (1.25.9)\n",
      "Collecting QtPy==1.9.0 (from ai-economist)\n",
      "  Using cached https://files.pythonhosted.org/packages/cd/fd/9972948f02e967b691cc0ca1f26124826a3b88cb38f412a8b7935b8c3c72/QtPy-1.9.0-py2.py3-none-any.whl\n",
      "Requirement already satisfied: docutils==0.16 in c:\\users\\ben\\anaconda3\\envs\\worldmodelsdk\\lib\\site-packages (from ai-economist) (0.16)\n",
      "Requirement already satisfied: numpy==1.18.5 in c:\\users\\ben\\anaconda3\\envs\\worldmodelsdk\\lib\\site-packages (from ai-economist) (1.18.5)\n",
      "Requirement already satisfied: pylint==2.5.3 in c:\\users\\ben\\anaconda3\\envs\\worldmodelsdk\\lib\\site-packages (from ai-economist) (2.5.3)\n",
      "Requirement already satisfied: testpath==0.4.4 in c:\\users\\ben\\anaconda3\\envs\\worldmodelsdk\\lib\\site-packages (from ai-economist) (0.4.4)\n",
      "Requirement already satisfied: ipython==7.15.0 in c:\\users\\ben\\anaconda3\\envs\\worldmodelsdk\\lib\\site-packages (from ai-economist) (7.15.0)\n",
      "Requirement already satisfied: importlib-metadata==1.6.1 in c:\\users\\ben\\anaconda3\\envs\\worldmodelsdk\\lib\\site-packages (from ai-economist) (1.6.1)\n",
      "Requirement already satisfied: pluggy==0.13.1 in c:\\users\\ben\\anaconda3\\envs\\worldmodelsdk\\lib\\site-packages (from ai-economist) (0.13.1)\n",
      "Requirement already satisfied: widgetsnbextension==3.5.1 in c:\\users\\ben\\anaconda3\\envs\\worldmodelsdk\\lib\\site-packages (from ai-economist) (3.5.1)\n",
      "Requirement already satisfied: matplotlib==3.2.1 in c:\\users\\ben\\anaconda3\\envs\\worldmodelsdk\\lib\\site-packages (from ai-economist) (3.2.1)\n",
      "Collecting nbconvert==5.6.1 (from ai-economist)\n",
      "  Using cached https://files.pythonhosted.org/packages/79/6c/05a569e9f703d18aacb89b7ad6075b404e8a4afde2c26b73ca77bb644b14/nbconvert-5.6.1-py2.py3-none-any.whl\n",
      "Requirement already satisfied: entrypoints==0.3 in c:\\users\\ben\\anaconda3\\envs\\worldmodelsdk\\lib\\site-packages (from ai-economist) (0.3)\n",
      "Requirement already satisfied: tqdm==4.46.1 in c:\\users\\ben\\anaconda3\\envs\\worldmodelsdk\\lib\\site-packages (from ai-economist) (4.46.1)\n",
      "Requirement already satisfied: py==1.8.1 in c:\\users\\ben\\anaconda3\\envs\\worldmodelsdk\\lib\\site-packages (from ai-economist) (1.8.1)\n",
      "Requirement already satisfied: pyflakes==2.2.0 in c:\\users\\ben\\anaconda3\\envs\\worldmodelsdk\\lib\\site-packages (from ai-economist) (2.2.0)\n",
      "Requirement already satisfied: jupyter==1.0.0 in c:\\users\\ben\\anaconda3\\envs\\worldmodelsdk\\lib\\site-packages (from ai-economist) (1.0.0)\n",
      "Requirement already satisfied: kiwisolver==1.2.0 in c:\\users\\ben\\anaconda3\\envs\\worldmodelsdk\\lib\\site-packages (from ai-economist) (1.2.0)\n",
      "Requirement already satisfied: black==19.10b0 in c:\\users\\ben\\anaconda3\\envs\\worldmodelsdk\\lib\\site-packages (from ai-economist) (19.10b0)\n",
      "Requirement already satisfied: defusedxml==0.6.0 in c:\\users\\ben\\anaconda3\\envs\\worldmodelsdk\\lib\\site-packages (from ai-economist) (0.6.0)\n",
      "Requirement already satisfied: bleach==3.1.5 in c:\\users\\ben\\anaconda3\\envs\\worldmodelsdk\\lib\\site-packages (from ai-economist) (3.1.5)\n",
      "Requirement already satisfied: pyzmq==19.0.1 in c:\\users\\ben\\anaconda3\\envs\\worldmodelsdk\\lib\\site-packages (from ai-economist) (19.0.1)\n",
      "Requirement already satisfied: jupyter-console==6.1.0 in c:\\users\\ben\\anaconda3\\envs\\worldmodelsdk\\lib\\site-packages (from ai-economist) (6.1.0)\n",
      "Requirement already satisfied: readme-renderer==26.0 in c:\\users\\ben\\anaconda3\\envs\\worldmodelsdk\\lib\\site-packages (from ai-economist) (26.0)\n",
      "Requirement already satisfied: ipywidgets==7.5.1 in c:\\users\\ben\\anaconda3\\envs\\worldmodelsdk\\lib\\site-packages (from ai-economist) (7.5.1)\n",
      "Requirement already satisfied: wrapt==1.12.1 in c:\\users\\ben\\anaconda3\\envs\\worldmodelsdk\\lib\\site-packages (from ai-economist) (1.12.1)\n",
      "Requirement already satisfied: python-dateutil==2.8.1 in c:\\users\\ben\\anaconda3\\envs\\worldmodelsdk\\lib\\site-packages (from ai-economist) (2.8.1)\n",
      "Requirement already satisfied: packaging==20.4 in c:\\users\\ben\\anaconda3\\envs\\worldmodelsdk\\lib\\site-packages (from ai-economist) (20.4)\n",
      "Requirement already satisfied: certifi==2020.4.5.1 in c:\\users\\ben\\anaconda3\\envs\\worldmodelsdk\\lib\\site-packages (from ai-economist) (2020.4.5.1)\n",
      "Collecting pexpect==4.8.0 (from ai-economist)\n",
      "  Using cached https://files.pythonhosted.org/packages/39/7b/88dbb785881c28a102619d46423cb853b46dbccc70d3ac362d99773a78ce/pexpect-4.8.0-py2.py3-none-any.whl\n",
      "Requirement already satisfied: requests==2.23.0 in c:\\users\\ben\\anaconda3\\envs\\worldmodelsdk\\lib\\site-packages (from ai-economist) (2.23.0)\n",
      "Collecting twine==3.1.1 (from ai-economist)\n",
      "  Using cached https://files.pythonhosted.org/packages/99/94/08b3b933c611416dad89c8abcc94a6d6c29e8609987235b6e7f10b42de82/twine-3.1.1-py3-none-any.whl\n",
      "Requirement already satisfied: pickleshare==0.7.5 in c:\\users\\ben\\anaconda3\\envs\\worldmodelsdk\\lib\\site-packages (from ai-economist) (0.7.5)\n",
      "Requirement already satisfied: keyring==21.2.1 in c:\\users\\ben\\anaconda3\\envs\\worldmodelsdk\\lib\\site-packages (from ai-economist) (21.2.1)\n",
      "Collecting terminado==0.8.3 (from ai-economist)\n",
      "  Using cached https://files.pythonhosted.org/packages/ff/96/1d9a2c23990aea8f8e0b5c3b6627d03196a73771a17a2d9860bbe9823ab6/terminado-0.8.3-py2.py3-none-any.whl\n",
      "Requirement already satisfied: pycodestyle==2.6.0 in c:\\users\\ben\\anaconda3\\envs\\worldmodelsdk\\lib\\site-packages (from ai-economist) (2.6.0)\n",
      "Requirement already satisfied: jsonschema==3.2.0 in c:\\users\\ben\\anaconda3\\envs\\worldmodelsdk\\lib\\site-packages (from ai-economist) (3.2.0)\n",
      "Requirement already satisfied: jupyter-client==6.1.3 in c:\\users\\ben\\anaconda3\\envs\\worldmodelsdk\\lib\\site-packages (from ai-economist) (6.1.3)\n",
      "Requirement already satisfied: appdirs==1.4.4 in c:\\users\\ben\\anaconda3\\envs\\worldmodelsdk\\lib\\site-packages (from ai-economist) (1.4.4)\n",
      "Requirement already satisfied: pathspec==0.8.0 in c:\\users\\ben\\anaconda3\\envs\\worldmodelsdk\\lib\\site-packages (from ai-economist) (0.8.0)\n",
      "Requirement already satisfied: attrs==19.3.0 in c:\\users\\ben\\anaconda3\\envs\\worldmodelsdk\\lib\\site-packages (from ai-economist) (19.3.0)\n",
      "Requirement already satisfied: six==1.15.0 in c:\\users\\ben\\anaconda3\\envs\\worldmodelsdk\\lib\\site-packages (from ai-economist) (1.15.0)\n",
      "Requirement already satisfied: click==7.1.2 in c:\\users\\ben\\anaconda3\\envs\\worldmodelsdk\\lib\\site-packages (from ai-economist) (7.1.2)\n",
      "Requirement already satisfied: idna==2.9 in c:\\users\\ben\\anaconda3\\envs\\worldmodelsdk\\lib\\site-packages (from ai-economist) (2.9)\n",
      "Requirement already satisfied: pywin32>=1.0; sys_platform == \"win32\" in c:\\users\\ben\\anaconda3\\envs\\worldmodelsdk\\lib\\site-packages (from jupyter-core==4.6.3->ai-economist) (223)\n",
      "Collecting atomicwrites>=1.0; sys_platform == \"win32\" (from pytest==5.4.3->ai-economist)\n",
      "  Using cached https://files.pythonhosted.org/packages/2c/a0/da5f49008ec6e9a658dbf5d7310a4debd397bce0b4db03cf8a410066bb87/atomicwrites-1.4.0-py2.py3-none-any.whl\n",
      "Requirement already satisfied: colorama; sys_platform == \"win32\" in c:\\users\\ben\\anaconda3\\envs\\worldmodelsdk\\lib\\site-packages (from pytest==5.4.3->ai-economist) (0.4.1)\n",
      "Requirement already satisfied: setuptools>=18.5 in c:\\users\\ben\\anaconda3\\envs\\worldmodelsdk\\lib\\site-packages (from ipython==7.15.0->ai-economist) (41.0.1)\n",
      "Requirement already satisfied: pywin32-ctypes!=0.1.0,!=0.1.1; sys_platform == \"win32\" in c:\\users\\ben\\anaconda3\\envs\\worldmodelsdk\\lib\\site-packages (from keyring==21.2.1->ai-economist) (0.2.0)\n",
      "Requirement already satisfied: pywinpty>=0.5; os_name == \"nt\" in c:\\users\\ben\\anaconda3\\envs\\worldmodelsdk\\lib\\site-packages (from terminado==0.8.3->ai-economist) (0.5.5)\n",
      "Installing collected packages: scipy, Jinja2, QtPy, qtconsole, nbformat, nbconvert, terminado, notebook, pkginfo, atomicwrites, pytest, pexpect, twine, ai-economist\n",
      "  Found existing installation: scipy 1.3.1\n",
      "    Uninstalling scipy-1.3.1:\n",
      "      Successfully uninstalled scipy-1.3.1\n",
      "  Found existing installation: Jinja2 2.11.1\n",
      "    Uninstalling Jinja2-2.11.1:\n",
      "      Successfully uninstalled Jinja2-2.11.1\n",
      "  Found existing installation: qtconsole 4.5.5\n",
      "    Uninstalling qtconsole-4.5.5:\n",
      "      Successfully uninstalled qtconsole-4.5.5\n",
      "  Found existing installation: nbformat 4.4.0\n",
      "    Uninstalling nbformat-4.4.0:\n",
      "      Successfully uninstalled nbformat-4.4.0\n",
      "  Found existing installation: nbconvert 5.5.0\n",
      "    Uninstalling nbconvert-5.5.0:\n",
      "      Successfully uninstalled nbconvert-5.5.0\n",
      "  Found existing installation: terminado 0.8.2\n"
     ]
    }
   ],
   "source": [
    "import sys\n",
    "IN_COLAB = 'google.colab' in sys.modules\n",
    "\n",
    "if IN_COLAB:\n",
    "    ! git clone https://github.com/salesforce/ai-economist.git \n",
    "    % cd ai-economist\n",
    "    ! pip install -e .\n",
    "else:\n",
    "    ! pip install ai-economist"
   ]
  },
  {
   "cell_type": "code",
   "execution_count": 4,
   "metadata": {},
   "outputs": [
    {
     "ename": "ModuleNotFoundError",
     "evalue": "No module named 'ai_economist'",
     "output_type": "error",
     "traceback": [
      "\u001b[1;31m---------------------------------------------------------------------------\u001b[0m",
      "\u001b[1;31mModuleNotFoundError\u001b[0m                       Traceback (most recent call last)",
      "\u001b[1;32m<ipython-input-4-4e7670fa6c34>\u001b[0m in \u001b[0;36m<module>\u001b[1;34m\u001b[0m\n\u001b[0;32m      1\u001b[0m \u001b[1;31m# Import foundation\u001b[0m\u001b[1;33m\u001b[0m\u001b[1;33m\u001b[0m\u001b[1;33m\u001b[0m\u001b[0m\n\u001b[1;32m----> 2\u001b[1;33m \u001b[1;32mfrom\u001b[0m \u001b[0mai_economist\u001b[0m \u001b[1;32mimport\u001b[0m \u001b[0mfoundation\u001b[0m\u001b[1;33m\u001b[0m\u001b[1;33m\u001b[0m\u001b[0m\n\u001b[0m",
      "\u001b[1;31mModuleNotFoundError\u001b[0m: No module named 'ai_economist'"
     ]
    }
   ],
   "source": [
    "# Import foundation\n",
    "from ai_economist import foundation"
   ]
  },
  {
   "cell_type": "code",
   "execution_count": null,
   "metadata": {},
   "outputs": [],
   "source": [
    "import numpy as np\n",
    "%matplotlib inline\n",
    "import matplotlib.pyplot as plt\n",
    "from IPython import display\n",
    "if IN_COLAB:\n",
    "    from tutorials.utils import plotting  # plotting utilities for visualizing env state\n",
    "else:\n",
    "    from utils import plotting"
   ]
  },
  {
   "cell_type": "markdown",
   "metadata": {},
   "source": [
    "# 1. Markov Decision Process\n",
    "\n",
    "Formally, our economic simulation is a key part of a Markov Decision Process (MDP).\n",
    "\n",
    "MDPs describe episodes in which agents interact with a stateful environment in a continuous feedback loop. At each timestep, agents receive an observation and use a policy to choose actions. The environment then advances to a new state, using the old state and the chosen actions. The agents then receive new observations and rewards. This process repeats over $T$ timesteps (possibly infinite).\n",
    "\n",
    "The goal of each agent is to maximize its expected sum of future (discounted) rewards, by finding its optimal policy. Intuitively, this means that an agent needs to understand which (sequence of) actions lead to high rewards (in expectation).\n",
    "\n",
    "### References\n",
    "\n",
    "For more information on reinforcement learning and MDPs, check out:\n",
    "\n",
    "- Richard S. Sutton and Andrew G. Barto, Reinforcement Learning: An Introduction. [http://incompleteideas.net/book/bookdraft2017nov5.pdf](http://incompleteideas.net/book/bookdraft2017nov5.pdf)"
   ]
  },
  {
   "cell_type": "markdown",
   "metadata": {},
   "source": [
    "# 2. Creating a Simulation Environment (a Scenario Instance)\n",
    "\n",
    "The Scenario class implements an economic simulation with multiple agents and (optionally) a social planner. \n",
    "\n",
    "Scenarios provide a high-level gym-style API that lets agents interact with it. The API supports multi-agent observations, actions, etc.\n",
    "\n",
    "Each Scenario is stateful and implements two main methods:\n",
    "\n",
    "- __step__, which advances the simulation to the next state, and \n",
    "- __reset__, which puts the simulation back in an initial state.\n",
    "\n",
    "Each Scenario is customizable: you can specify options in a dictionary. Here is an example for a scenario with 4 agents:\n",
    "\n",
    "**Note: This config dictionary will likely seem fairly incomprehensible at this point in the tutorials. Don't worry. The advanced tutorial offers much more context. This is just to get things started and to provide a reference for how to create a \"free market\" economy from the AI Economist.**"
   ]
  },
  {
   "cell_type": "code",
   "execution_count": null,
   "metadata": {},
   "outputs": [],
   "source": [
    "# Define the configuration of the environment that will be built\n",
    "\n",
    "env_config = {\n",
    "    # ===== SCENARIO CLASS =====\n",
    "    # Which Scenario class to use: the class's name in the Scenario Registry (foundation.scenarios).\n",
    "    # The environment object will be an instance of the Scenario class.\n",
    "    'scenario_name': 'layout_from_file/simple_wood_and_stone',\n",
    "    \n",
    "    # ===== COMPONENTS =====\n",
    "    # Which components to use (specified as list of (\"component_name\", {component_kwargs}) tuples).\n",
    "    #   \"component_name\" refers to the Component class's name in the Component Registry (foundation.components)\n",
    "    #   {component_kwargs} is a dictionary of kwargs passed to the Component class\n",
    "    # The order in which components reset, step, and generate obs follows their listed order below.\n",
    "    'components': [\n",
    "        # (1) Building houses\n",
    "        ('Build', {'skill_dist': \"pareto\", 'payment_max_skill_multiplier': 3}),\n",
    "        # (2) Trading collectible resources\n",
    "        ('ContinuousDoubleAuction', {'max_num_orders': 5}),\n",
    "        # (3) Movement and resource collection\n",
    "        ('Gather', {}),\n",
    "    ],\n",
    "    \n",
    "    # ===== SCENARIO CLASS ARGUMENTS =====\n",
    "    # (optional) kwargs that are added by the Scenario class (i.e. not defined in BaseEnvironment)\n",
    "    'env_layout_file': 'quadrant_25x25_20each_30clump.txt',\n",
    "    'starting_agent_coin': 10,\n",
    "    'fixed_four_skill_and_loc': True,\n",
    "    \n",
    "    # ===== STANDARD ARGUMENTS ======\n",
    "    # kwargs that are used by every Scenario class (i.e. defined in BaseEnvironment)\n",
    "    'n_agents': 4,          # Number of non-planner agents (must be > 1)\n",
    "    'world_size': [25, 25], # [Height, Width] of the env world\n",
    "    'episode_length': 1000, # Number of timesteps per episode\n",
    "    \n",
    "    # In multi-action-mode, the policy selects an action for each action subspace (defined in component code).\n",
    "    # Otherwise, the policy selects only 1 action.\n",
    "    'multi_action_mode_agents': False,\n",
    "    'multi_action_mode_planner': True,\n",
    "    \n",
    "    # When flattening observations, concatenate scalar & vector observations before output.\n",
    "    # Otherwise, return observations with minimal processing.\n",
    "    'flatten_observations': False,\n",
    "    # When Flattening masks, concatenate each action subspace mask into a single array.\n",
    "    # Note: flatten_masks = True is required for masking action logits in the code below.\n",
    "    'flatten_masks': True,\n",
    "}"
   ]
  },
  {
   "cell_type": "markdown",
   "metadata": {},
   "source": [
    "Create an environment instance using this configuration:"
   ]
  },
  {
   "cell_type": "code",
   "execution_count": null,
   "metadata": {},
   "outputs": [],
   "source": [
    "env = foundation.make_env_instance(**env_config)"
   ]
  },
  {
   "cell_type": "markdown",
   "metadata": {},
   "source": [
    "# 3. Interacting with the Simulation"
   ]
  },
  {
   "cell_type": "markdown",
   "metadata": {},
   "source": [
    "### Agents\n",
    "\n",
    "The Agent class holds the state of agents in the simulation. Each Agent instance represents a _logical_ agent.\n",
    "\n",
    "_Note that this might be separate from a Policy model that lives outside the Scenario and controls the Agent's behavior._"
   ]
  },
  {
   "cell_type": "code",
   "execution_count": null,
   "metadata": {},
   "outputs": [],
   "source": [
    "env.get_agent(0)"
   ]
  },
  {
   "cell_type": "markdown",
   "metadata": {},
   "source": [
    "### A random policy\n",
    "\n",
    "Now let's interact with the simulation.\n",
    "\n",
    "Each Agent needs to choose which actions to execute using a __policy__.\n",
    "\n",
    "Agents might not always be allowed to execute all actions. For instance, a mobile Agent cannot move beyond the boundary of the world. Hence, in position (0, 0), a mobile cannot move \"Left\" or \"Down\". This information is given by a mask, which is provided under ```obs[<agent_id_str>][\"action_mask\"]``` in the observation dictionary ```obs``` returned by the scenario.\n",
    "\n",
    "Let's use a random policy to step through the simulation. The methods below implement a random policy."
   ]
  },
  {
   "cell_type": "code",
   "execution_count": null,
   "metadata": {},
   "outputs": [],
   "source": [
    "# Note: The code for sampling actions (this cell), and playing an episode (below) are general.  \n",
    "# That is, it doesn't depend on the Scenario and Component classes used in the environment!\n",
    "\n",
    "def sample_random_action(agent, mask):\n",
    "    \"\"\"Sample random UNMASKED action(s) for agent.\"\"\"\n",
    "    # Return a list of actions: 1 for each action subspace\n",
    "    if agent.multi_action_mode:\n",
    "        split_masks = np.split(mask, agent.action_spaces.cumsum()[:-1])\n",
    "        return [np.random.choice(np.arange(len(m_)), p=m_/m_.sum()) for m_ in split_masks]\n",
    "\n",
    "    # Return a single action\n",
    "    else:\n",
    "        return np.random.choice(np.arange(agent.action_spaces), p=mask/mask.sum())\n",
    "\n",
    "def sample_random_actions(env, obs):\n",
    "    \"\"\"Samples random UNMASKED actions for each agent in obs.\"\"\"\n",
    "        \n",
    "    actions = {\n",
    "        a_idx: sample_random_action(env.get_agent(a_idx), a_obs['action_mask'])\n",
    "        for a_idx, a_obs in obs.items()\n",
    "    }\n",
    "\n",
    "    return actions"
   ]
  },
  {
   "cell_type": "markdown",
   "metadata": {},
   "source": [
    "Now we're ready to interact with the simulation...\n",
    "\n",
    "First, environments can be put in an initial state by using __reset__."
   ]
  },
  {
   "cell_type": "code",
   "execution_count": null,
   "metadata": {},
   "outputs": [],
   "source": [
    "obs = env.reset()"
   ]
  },
  {
   "cell_type": "markdown",
   "metadata": {},
   "source": [
    "Then, we call __step__ to advance the state and advance time by one tick."
   ]
  },
  {
   "cell_type": "code",
   "execution_count": null,
   "metadata": {},
   "outputs": [],
   "source": [
    "actions = sample_random_actions(env, obs)\n",
    "obs, rew, done, info = env.step(actions)"
   ]
  },
  {
   "cell_type": "markdown",
   "metadata": {},
   "source": [
    "Internally, the __step__ method composes several Components (which act almost like modular sub-Environments) that implement various agent affordances and environment dynamics. For more detailed information on Components and how to implement custom Component classes, see the advanced tutorial. For this tutorial, we will continue to inspect the information that __step__ returns and run a full episode in the simulation."
   ]
  },
  {
   "cell_type": "markdown",
   "metadata": {},
   "source": [
    "### Observation\n",
    "\n",
    "Each observation is a dictionary that contains information for the $N$ agents and (optionally) social planner (with id \"p\")."
   ]
  },
  {
   "cell_type": "code",
   "execution_count": null,
   "metadata": {},
   "outputs": [],
   "source": [
    "obs.keys()"
   ]
  },
  {
   "cell_type": "markdown",
   "metadata": {},
   "source": [
    "For each agent, the agent-specific observation is a dictionary. Each Component can contribute information to the agent-specific observation. For instance, the Build Component contributes the \n",
    "\n",
    "- Build-build_payment (float)\n",
    "- Build-build_skill (int)\n",
    "\n",
    "fields, which are defined in the ```generate_observations``` method in [foundation/components/build.py](https://github.com/salesforce/ai-economist/blob/master/ai_economist/foundation/components/build.py)."
   ]
  },
  {
   "cell_type": "code",
   "execution_count": null,
   "metadata": {
    "scrolled": true
   },
   "outputs": [],
   "source": [
    "for key, val in obs['0'].items(): \n",
    "    print(\"{:50} {}\".format(key, type(val)))"
   ]
  },
  {
   "cell_type": "markdown",
   "metadata": {},
   "source": [
    "### Reward\n",
    "\n",
    "For each agent / planner, the reward dictionary contains a scalar reward:"
   ]
  },
  {
   "cell_type": "code",
   "execution_count": null,
   "metadata": {},
   "outputs": [],
   "source": [
    "for agent_idx, reward in rew.items(): \n",
    "    print(\"{:2} {:.3f}\".format(agent_idx, reward))"
   ]
  },
  {
   "cell_type": "markdown",
   "metadata": {},
   "source": [
    "### Done\n",
    "\n",
    "The __done__ object is a dictionary that by default records whether all agents have seen the end of the episode. The default criterion for each agent is to 'stop' their episode once $H$ steps have been executed. Once an agent is 'done', they do not change their state anymore. So, while it's not currently implemented, this could be used to indicate that the episode has ended *for a specific Agent*.\n",
    "\n",
    "In general, this is useful for telling a Reinforcement Learning framework when to reset the environment and how to organize the trajectories of individual Agents."
   ]
  },
  {
   "cell_type": "code",
   "execution_count": null,
   "metadata": {},
   "outputs": [],
   "source": [
    "done"
   ]
  },
  {
   "cell_type": "markdown",
   "metadata": {},
   "source": [
    "### Info\n",
    "\n",
    "The __info__ object can record any auxiliary information from the simulator, which can be useful, e.g., for visualization. By default, this is empty. To modify this behavior, modify the step() method in [foundation/base/base_env.py](https://github.com/salesforce/ai-economist/blob/master/ai_economist/foundation/base/base_env.py)."
   ]
  },
  {
   "cell_type": "code",
   "execution_count": null,
   "metadata": {},
   "outputs": [],
   "source": [
    "info"
   ]
  },
  {
   "cell_type": "markdown",
   "metadata": {},
   "source": [
    "# 3. Sampling and Visualizing an Episode\n",
    "\n",
    "Let's step multiple times with this random policy and visualize the result:"
   ]
  },
  {
   "cell_type": "code",
   "execution_count": null,
   "metadata": {},
   "outputs": [],
   "source": [
    "def do_plot(env, ax, fig):\n",
    "    \"\"\"Plots world state during episode sampling.\"\"\"\n",
    "    plotting.plot_env_state(env, ax)\n",
    "    ax.set_aspect('equal')\n",
    "    display.display(fig)\n",
    "    display.clear_output(wait=True)\n",
    "\n",
    "def play_random_episode(env, plot_every=100, do_dense_logging=False):\n",
    "    \"\"\"Plays an episode with randomly sampled actions.\n",
    "    \n",
    "    Demonstrates gym-style API:\n",
    "        obs                  <-- env.reset(...)         # Reset\n",
    "        obs, rew, done, info <-- env.step(actions, ...) # Interaction loop\n",
    "    \n",
    "    \"\"\"\n",
    "    fig, ax = plt.subplots(1, 1, figsize=(10, 10))\n",
    "\n",
    "    # Reset\n",
    "    obs = env.reset(force_dense_logging=do_dense_logging)\n",
    "\n",
    "    # Interaction loop (w/ plotting)\n",
    "    for t in range(env.episode_length):\n",
    "        actions = sample_random_actions(env, obs)\n",
    "        obs, rew, done, info = env.step(actions)\n",
    "\n",
    "        if ((t+1) % plot_every) == 0:\n",
    "            do_plot(env, ax, fig)\n",
    "\n",
    "    if ((t+1) % plot_every) != 0:\n",
    "        do_plot(env, ax, fig)        "
   ]
  },
  {
   "cell_type": "code",
   "execution_count": null,
   "metadata": {},
   "outputs": [],
   "source": [
    "play_random_episode(env, plot_every=100)"
   ]
  },
  {
   "cell_type": "markdown",
   "metadata": {},
   "source": [
    "We see four agents (indicated by a circled __\\*__) that move around in the 2-dimensional world. Light brown cells contain Stone, green cells contain Wood. Each agent can build Houses, indicated by corresponding colored cells. Water tiles (blue squares), which prevent movement, divide the map into four quadrants.\n",
    "\n",
    "Note: this is showing the same information as the image at the top of the tutorial -- it just uses a much more simplistic rendering."
   ]
  },
  {
   "cell_type": "markdown",
   "metadata": {},
   "source": [
    "# Visualize using dense logging\n",
    "\n",
    "Environments built with Foundation provide a couple tools for logging. Perhaps the most useful are **dense logs**. When you reset the environment, you can tell it to create a dense log for the new episode. This will store Agent states at each point in time along with any Component-specific dense log information (say, about builds, trades, etc.) that the Components provide. In addition, it will periodically store a snapshot of the world state.\n",
    "\n",
    "We provide a few plotting tools that work well with the type of environment showcased here."
   ]
  },
  {
   "cell_type": "code",
   "execution_count": null,
   "metadata": {},
   "outputs": [],
   "source": [
    "# Play another episode. This time, tell the environment to do dense logging\n",
    "play_random_episode(env, plot_every=100, do_dense_logging=True)\n",
    "\n",
    "# Grab the dense log from the env\n",
    "dense_log = env.previous_episode_dense_log"
   ]
  },
  {
   "cell_type": "code",
   "execution_count": null,
   "metadata": {},
   "outputs": [],
   "source": [
    "# Show the evolution of the world state from t=0 to t=200\n",
    "fig = plotting.vis_world_range(dense_log, t0=0, tN=200, N=5)"
   ]
  },
  {
   "cell_type": "code",
   "execution_count": null,
   "metadata": {},
   "outputs": [],
   "source": [
    "# Show the evolution of the world state over the full episode\n",
    "fig = plotting.vis_world_range(dense_log, N=5)"
   ]
  },
  {
   "cell_type": "code",
   "execution_count": null,
   "metadata": {},
   "outputs": [],
   "source": [
    "# Use the \"breakdown\" tool to visualize the world state, agent-wise quantities, movement, and trading events\n",
    "plotting.breakdown(dense_log);"
   ]
  },
  {
   "cell_type": "markdown",
   "metadata": {},
   "source": [
    "# Next\n",
    "\n",
    "Now that you've seen how to interact with the simulation and generate episodes, try the next tutorial ([economic_simulation_advanced.ipynb](https://github.com/salesforce/ai-economist/blob/master/tutorials/economic_simulation_advanced.ipynb)) that explains how the simulation is composed of low-level Components and Entities. This structure enables flexible extensions of the economic simulation."
   ]
  }
 ],
 "metadata": {
  "kernelspec": {
   "display_name": "Python 3",
   "language": "python",
   "name": "python3"
  },
  "language_info": {
   "codemirror_mode": {
    "name": "ipython",
    "version": 3
   },
   "file_extension": ".py",
   "mimetype": "text/x-python",
   "name": "python",
   "nbconvert_exporter": "python",
   "pygments_lexer": "ipython3",
   "version": "3.6.9"
  }
 },
 "nbformat": 4,
 "nbformat_minor": 2
}
